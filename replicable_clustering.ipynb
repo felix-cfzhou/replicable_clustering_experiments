{
 "cells": [
  {
   "cell_type": "markdown",
   "id": "27492bd4-8402-4bc3-a737-c99b6c3c1b2a",
   "metadata": {},
   "source": [
    "# Replicable Clustering\n",
    "\n",
    "Implementation and experiments for replicable clustering algorithm."
   ]
  },
  {
   "cell_type": "markdown",
   "id": "12125b7a-991d-4346-b309-3adb6ae104e1",
   "metadata": {},
   "source": [
    "# Usage"
   ]
  },
  {
   "cell_type": "code",
   "execution_count": null,
   "id": "74f583ba-24d4-483e-ad1a-fff77f8c7035",
   "metadata": {
    "tags": []
   },
   "outputs": [],
   "source": [
    "import matplotlib.pyplot as plt\n",
    "import numpy as np\n",
    "import sklearn\n",
    "\n",
    "plt.rcParams[\"font.family\"] = \"Times New Roman\"\n",
    "plt.rcParams[\"figure.dpi\"] = 100.0"
   ]
  },
  {
   "cell_type": "markdown",
   "id": "81eb6493-3b2e-42f5-8525-b807eee4bf0a",
   "metadata": {
    "tags": []
   },
   "source": [
    "## Environment"
   ]
  },
  {
   "cell_type": "markdown",
   "id": "1465b966-df59-4a23-b617-50dc884c2f40",
   "metadata": {},
   "source": [
    "### Mixture of Truncated Gaussians"
   ]
  },
  {
   "cell_type": "code",
   "execution_count": null,
   "id": "706ec3a5-a0b9-46b0-ac00-a4ea16e3c82b",
   "metadata": {
    "tags": []
   },
   "outputs": [],
   "source": [
    "from plotting import plot2D\n",
    "from samplers import MixtureTruncNormSampler\n",
    "\n",
    "truncnorm_sampler = MixtureTruncNormSampler(0)  # external random seed\n",
    "plot2D(truncnorm_sampler(1000))"
   ]
  },
  {
   "cell_type": "markdown",
   "id": "b9418781-8d44-4fcd-82e7-066629f674e2",
   "metadata": {},
   "source": [
    "### Two Moons Distribution"
   ]
  },
  {
   "cell_type": "code",
   "execution_count": null,
   "id": "342a462a-b4de-479d-805d-4ca02a21d53b",
   "metadata": {
    "tags": []
   },
   "outputs": [],
   "source": [
    "from samplers import MoonsSampler\n",
    "\n",
    "moons_sampler = MoonsSampler(0)\n",
    "plot2D(moons_sampler(1000))"
   ]
  },
  {
   "cell_type": "markdown",
   "id": "c313ca2d-3dc2-42a8-b819-7bdd56554962",
   "metadata": {
    "tags": []
   },
   "source": [
    "## Replicable K-Means++"
   ]
  },
  {
   "cell_type": "markdown",
   "id": "02079a57-0700-4d72-b796-74c798ad582b",
   "metadata": {
    "tags": []
   },
   "source": [
    "### Replicable Heavy Hitters"
   ]
  },
  {
   "cell_type": "code",
   "execution_count": null,
   "id": "0973777f-81b7-4bbf-9073-ce2714b2425c",
   "metadata": {
    "tags": []
   },
   "outputs": [],
   "source": [
    "from heavy_hitters import r_heavy_hitters\n",
    "from samplers import AbstractSampler\n",
    "\n",
    "\n",
    "class ToySampler(AbstractSampler):\n",
    "    def __call__(self, size: int) -> np.array:\n",
    "        return self.random_state.choice(\n",
    "            [0, 1, 2], p=[0.3, 0.3, 0.4], size=size\n",
    "        ).reshape((-1, 1))\n",
    "\n",
    "\n",
    "toy_sampler = ToySampler(16)\n",
    "\n",
    "print(\n",
    "    r_heavy_hitters(\n",
    "        toy_sampler,\n",
    "        thres=0.4,\n",
    "        eps=0.1,\n",
    "        rho=0.1,\n",
    "        delta=0.01,\n",
    "        random_state=2,\n",
    "    )\n",
    ")\n",
    "print(\n",
    "    r_heavy_hitters(\n",
    "        toy_sampler,\n",
    "        thres=0.4,\n",
    "        eps=0.1,\n",
    "        rho=0.1,\n",
    "        delta=0.01,\n",
    "        random_state=2,\n",
    "    )\n",
    ")"
   ]
  },
  {
   "cell_type": "markdown",
   "id": "2a1f395e-f8b6-49fc-98c0-7eb11202d791",
   "metadata": {},
   "source": [
    "### Replicable Quad Tree"
   ]
  },
  {
   "cell_type": "code",
   "execution_count": null,
   "id": "f14aa40e-0820-4342-b0d9-988a108dd57a",
   "metadata": {
    "tags": []
   },
   "outputs": [],
   "source": [
    "from quad_tree import r_quad_tree\n",
    "\n",
    "root1 = r_quad_tree(\n",
    "    truncnorm_sampler,\n",
    "    k=3,\n",
    "    eps=0.99,\n",
    "    rho=0.4,\n",
    "    delta=0.1,\n",
    "    Gamma=0.5,\n",
    "    beta=1.0,\n",
    "    Delta=np.sqrt(2),\n",
    "    random_state=2,\n",
    ")\n",
    "\n",
    "root2 = r_quad_tree(\n",
    "    truncnorm_sampler,\n",
    "    k=3,\n",
    "    eps=0.99,\n",
    "    rho=0.4,\n",
    "    delta=0.1,\n",
    "    Gamma=0.5,\n",
    "    beta=1.0,\n",
    "    Delta=np.sqrt(2),\n",
    "    random_state=2,\n",
    ")"
   ]
  },
  {
   "cell_type": "code",
   "execution_count": null,
   "id": "b1b4b3cf-3849-4bb9-a114-905c7cf14de9",
   "metadata": {
    "tags": []
   },
   "outputs": [],
   "source": [
    "heavy_nodes1 = root1.get_leaves()\n",
    "heavy_nodes2 = root2.get_leaves()\n",
    "\n",
    "plot2D(\n",
    "    heavy_nodes1,\n",
    "    marker=\"1\",\n",
    "    linewidth=10,\n",
    "    label=\"Heavy Leaves Execution 1\",\n",
    ")\n",
    "plot2D(\n",
    "    heavy_nodes1,\n",
    "    marker=\"2\",\n",
    "    linewidth=10,\n",
    "    label=\"Heavy Leaves Execution 2\",\n",
    ")\n",
    "\n",
    "plt.legend()\n",
    "plt.show()"
   ]
  },
  {
   "cell_type": "markdown",
   "id": "11e68578-3e02-4bce-a7d3-09b7b7d5a486",
   "metadata": {},
   "source": [
    "### Replicable Probability Mass Estimation"
   ]
  },
  {
   "cell_type": "code",
   "execution_count": null,
   "id": "92241358-ca59-4a9d-a9fe-6f0da6f095bd",
   "metadata": {
    "tags": []
   },
   "outputs": [],
   "source": [
    "from mass_estimation import r_prob_mass\n",
    "\n",
    "samples1, mass1 = r_prob_mass(\n",
    "    toy_sampler, N=3, rho=0.4, eps=0.01, delta=0.01, random_state=2\n",
    ")\n",
    "samples2, mass2 = r_prob_mass(\n",
    "    toy_sampler, N=3, rho=0.4, eps=0.01, delta=0.01, random_state=2\n",
    ")\n",
    "\n",
    "assert np.isclose(mass1.sum(), 1.0)\n",
    "assert np.isclose(mass2.sum(), 1.0)\n",
    "\n",
    "print(samples1, mass1)\n",
    "print(samples2, mass2)"
   ]
  },
  {
   "cell_type": "markdown",
   "id": "35928c43-21d6-454f-8a53-50b837b89479",
   "metadata": {},
   "source": [
    "### Replicable Coreset"
   ]
  },
  {
   "cell_type": "code",
   "execution_count": null,
   "id": "810cd0ed-8061-4286-95bb-21cd082b8e28",
   "metadata": {
    "tags": []
   },
   "outputs": [],
   "source": [
    "from coreset import r_coreset\n",
    "\n",
    "coreset1, mass1 = r_coreset(\n",
    "    moons_sampler,\n",
    "    k=3,\n",
    "    eps=0.99,\n",
    "    rho=0.3,\n",
    "    delta=0.01,\n",
    "    Gamma=0.5,\n",
    "    beta=1.0,\n",
    "    Delta=np.sqrt(2),\n",
    "    random_state=2,  # shared internal random seed\n",
    ")\n",
    "coreset2, mass2 = r_coreset(\n",
    "    moons_sampler,\n",
    "    k=3,\n",
    "    eps=0.99,\n",
    "    rho=0.3,\n",
    "    delta=0.01,\n",
    "    Gamma=0.5,\n",
    "    beta=1.0,\n",
    "    Delta=np.sqrt(2),\n",
    "    random_state=2,  # shared internal random seed\n",
    ")\n",
    "\n",
    "plot2D(\n",
    "    coreset1,\n",
    "    s=np.power(mass1, 3) * 1000,\n",
    "    marker=\"1\",\n",
    "    linewidths=10,\n",
    "    label=\"Coreset Execution 1\",\n",
    ")\n",
    "plot2D(\n",
    "    coreset2,\n",
    "    s=np.power(mass2, 3) * 1000,\n",
    "    marker=\"2\",\n",
    "    linewidths=10,\n",
    "    label=\"Coreset Execution 2\",\n",
    ")\n",
    "\n",
    "ax = plt.gca()\n",
    "ax.set_xlim(-1, 1)\n",
    "ax.set_ylim(-1, 1)\n",
    "plt.legend()\n",
    "plt.show()"
   ]
  },
  {
   "cell_type": "markdown",
   "id": "dec3eb25-d247-4f67-813a-1080d280f73f",
   "metadata": {},
   "source": [
    "### Replicable K-Means++"
   ]
  },
  {
   "cell_type": "code",
   "execution_count": null,
   "id": "c2b57f0f-9d48-4d6a-829c-3ba76532eda5",
   "metadata": {
    "tags": []
   },
   "outputs": [],
   "source": [
    "from plotting import compare_plot_kmeans\n",
    "\n",
    "truncnorm_sampler = MixtureTruncNormSampler(12345)  # external random seed\n",
    "\n",
    "fig, axes = plt.subplots(1, 2, figsize=(10, 4))\n",
    "compare_plot_kmeans(truncnorm_sampler, 2, fig, axes)\n",
    "\n",
    "fig.suptitle(\"Replicable K-Means++ on Truncated Gaussian Mixture\")\n",
    "plt.savefig(\"r_truncnorm.pdf\", format=\"pdf\", bbox_inches=\"tight\")\n",
    "plt.show()"
   ]
  },
  {
   "cell_type": "code",
   "execution_count": null,
   "id": "5a338994-8fd8-43a8-9edb-1d1b0a8b188a",
   "metadata": {
    "tags": []
   },
   "outputs": [],
   "source": [
    "moons_sampler = MoonsSampler(54321)  # external random seed\n",
    "\n",
    "fig, axes = plt.subplots(1, 2, figsize=(10, 4))\n",
    "compare_plot_kmeans(moons_sampler, 2, fig, axes)\n",
    "\n",
    "fig.suptitle(\"Replicable K-Means++ on Two Moons Distribution\")\n",
    "\n",
    "plt.savefig(\"r_moons.pdf\", format=\"pdf\", bbox_inches=\"tight\")\n",
    "\n",
    "plt.show()"
   ]
  },
  {
   "cell_type": "code",
   "execution_count": null,
   "id": "3a22b876-fefa-4802-b7b6-1022a4088e11",
   "metadata": {},
   "outputs": [],
   "source": []
  }
 ],
 "metadata": {
  "kernelspec": {
   "display_name": "Python 3 (ipykernel)",
   "language": "python",
   "name": "python3"
  },
  "language_info": {
   "codemirror_mode": {
    "name": "ipython",
    "version": 3
   },
   "file_extension": ".py",
   "mimetype": "text/x-python",
   "name": "python",
   "nbconvert_exporter": "python",
   "pygments_lexer": "ipython3",
   "version": "3.10.9"
  }
 },
 "nbformat": 4,
 "nbformat_minor": 5
}
